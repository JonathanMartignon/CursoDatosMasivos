{
  "nbformat": 4,
  "nbformat_minor": 0,
  "metadata": {
    "colab": {
      "name": "funciones_dispersion.ipynb",
      "provenance": [],
      "collapsed_sections": [],
      "authorship_tag": "ABX9TyNaDB80Sc7HWa1bTsgdDNEI",
      "include_colab_link": true
    },
    "kernelspec": {
      "name": "python3",
      "display_name": "Python 3"
    }
  },
  "cells": [
    {
      "cell_type": "markdown",
      "metadata": {
        "id": "view-in-github",
        "colab_type": "text"
      },
      "source": [
        "<a href=\"https://colab.research.google.com/github/blancavazquez/CursoDatosMasivos/blob/master/notebooks/3a_funciones_hash.ipynb\" target=\"_parent\"><img src=\"https://colab.research.google.com/assets/colab-badge.svg\" alt=\"Open In Colab\"/></a>"
      ]
    },
    {
      "cell_type": "markdown",
      "metadata": {
        "id": "Kloh2BluGySD",
        "colab_type": "text"
      },
      "source": [
        "# Tablas de dispersión o tablas _hash_\n",
        "Una tabla _hash_ es una estructura de datos que puede almacenar objetos, la cual permite _insertar_, _eliminar_ y _buscar_ objetos de forma eficiente. \n",
        "\n",
        "## Diccionarios en Python\n",
        "Los diccionarios de Python se llevan a cabo a través de tablas _hash_. Por ej. podemos almacenar 2 conjuntos usando esta estructura de datos. "
      ]
    },
    {
      "cell_type": "code",
      "metadata": {
        "id": "j2g9kfBkGLWY",
        "colab_type": "code",
        "outputId": "5cbdee7e-e234-41f8-a016-e693783e6b3f",
        "colab": {
          "base_uri": "https://localhost:8080/",
          "height": 35
        }
      },
      "source": [
        "o = {}\n",
        "o['O1']=(0, 2, 0, 4)\n",
        "o['O2']=(1, 2, 0, 2)\n",
        "    \n",
        "print('O1 = {0}, O2 = {1}'.format(o['O1'], o['O2']))"
      ],
      "execution_count": 0,
      "outputs": [
        {
          "output_type": "stream",
          "text": [
            "O1 = (0, 2, 0, 4), O2 = (1, 2, 0, 2)\n"
          ],
          "name": "stdout"
        }
      ]
    },
    {
      "cell_type": "markdown",
      "metadata": {
        "id": "zWBin6p2cuvT",
        "colab_type": "text"
      },
      "source": [
        "También es posible hacer lo contrario."
      ]
    },
    {
      "cell_type": "code",
      "metadata": {
        "id": "fMYNPZw7Hy10",
        "colab_type": "code",
        "outputId": "a2e0a931-d9a0-4f9e-c36e-20fbaf18b71a",
        "colab": {
          "base_uri": "https://localhost:8080/",
          "height": 52
        }
      },
      "source": [
        "o2 = {}\n",
        "o2[(0,2,0,4)]='O1'\n",
        "o2[(1,2,0,2)]='O2'\n",
        "\n",
        "print('(0,2,0,4) = {0}'.format(o2[(0,2,0,4)]))\n",
        "print('(1,2,0,2) = {0}'.format(o2[(1,2,0,2)]))"
      ],
      "execution_count": 0,
      "outputs": [
        {
          "output_type": "stream",
          "text": [
            "(0,2,0,4) = O1\n",
            "(1,2,0,2) = O2\n"
          ],
          "name": "stdout"
        }
      ]
    },
    {
      "cell_type": "markdown",
      "metadata": {
        "id": "Y_8p2EEkdKIT",
        "colab_type": "text"
      },
      "source": [
        "Más generalmente podemos crear diccionarios usando cualquier tipo o estructura de datos al que se le pueda aplicar la función `hash`."
      ]
    },
    {
      "cell_type": "code",
      "metadata": {
        "id": "F3kQ3QIMt31C",
        "colab_type": "code",
        "outputId": "759c6411-16b9-47c6-8eb7-119ce5df3420",
        "colab": {
          "base_uri": "https://localhost:8080/",
          "height": 104
        }
      },
      "source": [
        "print('Hash de 1 es {0}'.format(hash(1)))\n",
        "print('Hash de 3.14 es {0}'.format(hash(3.14)))\n",
        "print('Hash de \\'10\\' es {0}'.format(hash('10')))\n",
        "print('Hash de (1,2) es {0}'.format(hash((1,2))))\n",
        "print('Hash de (1,2,0,2) es {0}'.format(hash((1,2,0,2))))"
      ],
      "execution_count": 0,
      "outputs": [
        {
          "output_type": "stream",
          "text": [
            "Hash de 1 es 1\n",
            "Hash de 3.14 es 322818021289917443\n",
            "Hash de '10' es -6568683255423470720\n",
            "Hash de (1,2) es 3713081631934410656\n",
            "Hash de (1,2,0,2) es 485695305516660284\n"
          ],
          "name": "stdout"
        }
      ]
    },
    {
      "cell_type": "markdown",
      "metadata": {
        "id": "tiEa7s_Hd4MD",
        "colab_type": "text"
      },
      "source": [
        "## Creando tablas _hash_ en Python\n",
        "Definimos una clase abstracta para nuestra estructura de datos, especificando sus métodos principales."
      ]
    },
    {
      "cell_type": "code",
      "metadata": {
        "id": "IGU0o6sIOXrq",
        "colab_type": "code",
        "colab": {}
      },
      "source": [
        "from abc import ABC, abstractmethod \n",
        "\n",
        "class TablaHash(ABC):\n",
        "  def __init__(self, n_cubetas):\n",
        "    self.n_cubetas = n_cubetas\n",
        "    self.tabla = [[] for i in range(n_cubetas)]\n",
        "\n",
        "  def __getitem__(self, x):\n",
        "    return self.tabla[self.h(x)]\n",
        "\n",
        "  def __repr__(self):\n",
        "    contenido = ['%d::%s' % (i, self.tabla[i]) for i in range(self.n_cubetas)]\n",
        "    return \"<TablaHash :%s >\" % ('\\n'.join(contenido))\n",
        "\n",
        "  def __str__(self):\n",
        "    contenido = ['%d::%s' % (i, self.tabla[i]) for i in range(self.n_cubetas) if self.tabla[i]]\n",
        "    return '\\n'.join(contenido)\n",
        "\n",
        "  @abstractmethod\n",
        "  def h(self, x):\n",
        "    pass\n",
        "\n",
        "  @abstractmethod\n",
        "  def insertar(self, x):\n",
        "    pass\n",
        "\n",
        "  @abstractmethod\n",
        "  def buscar(self, x):\n",
        "    pass\n",
        "    \n",
        "  @abstractmethod\n",
        "  def eliminar(self, x):\n",
        "    pass"
      ],
      "execution_count": 0,
      "outputs": []
    },
    {
      "cell_type": "markdown",
      "metadata": {
        "id": "AMITzCIgLoTW",
        "colab_type": "text"
      },
      "source": [
        "### Familia $\\mathcal{H}$ por método de división\n",
        "Podemos crear funciones _hash_ $h$ usando el método de división, obteniendo el residuo de la división del valor del objeto y el tamaño de la tabla $m$, esto es,\n",
        "\n",
        "$$\n",
        "h(x) = x \\mod{m}\n",
        "$$\n",
        "\n",
        "donde $m$ es el número de cubetas en la tabla _hash_. Es conveniente usar un número primo para $m$.\n",
        "\n",
        "Definimos una clase hija de `TablaHash` que implemente la función anterior. Para resolver colisiones usamos encadenamiento, esto es, cada cubeta o registro de la tabla es una lista que contiene todos los objetos que son mapeados al índice correspondiente."
      ]
    },
    {
      "cell_type": "code",
      "metadata": {
        "id": "GQuJ8Q32HXyK",
        "colab_type": "code",
        "colab": {}
      },
      "source": [
        "class THMod(TablaHash):\n",
        "  def h(self, x):\n",
        "    return x % self.n_cubetas\n",
        "\n",
        "  def insertar(self, x):\n",
        "    self.tabla[self.h(x)].append(x)\n",
        "  \n",
        "  def buscar(self, x):\n",
        "    return x in self.tabla[h(x)]\n",
        "      \n",
        "  def eliminar(self, x):\n",
        "    self.tabla[self.h(x)].remove(x)"
      ],
      "execution_count": 0,
      "outputs": []
    },
    {
      "cell_type": "markdown",
      "metadata": {
        "id": "vAKYQ7ISu8-8",
        "colab_type": "text"
      },
      "source": [
        "Probemos nuestra tabla con un conjunto 5 de números"
      ]
    },
    {
      "cell_type": "code",
      "metadata": {
        "id": "i-_9o9IGM3vi",
        "colab_type": "code",
        "outputId": "10cc1ab7-ab4c-47b0-ce00-c10b20233c03",
        "colab": {
          "base_uri": "https://localhost:8080/",
          "height": 104
        }
      },
      "source": [
        "enteros = [1, 10, 36, 78, 93]\n",
        "n_cubetas = 10\n",
        "\n",
        "thmod = THMod(n_cubetas)\n",
        "for i,e in enumerate(enteros):\n",
        "  thmod.insertar(e)\n",
        "print(thmod)"
      ],
      "execution_count": 0,
      "outputs": [
        {
          "output_type": "stream",
          "text": [
            "0::[10]\n",
            "1::[1]\n",
            "3::[93]\n",
            "6::[36]\n",
            "8::[78]\n"
          ],
          "name": "stdout"
        }
      ]
    },
    {
      "cell_type": "markdown",
      "metadata": {
        "id": "bXFhCKJ_TI3x",
        "colab_type": "text"
      },
      "source": [
        "¿Qué pasa si tenemos una lista de objetos más grande?"
      ]
    },
    {
      "cell_type": "code",
      "metadata": {
        "id": "RILzRoZgTRMz",
        "colab_type": "code",
        "outputId": "33a77bfa-f130-4a89-b2e3-9db36d655415",
        "colab": {
          "base_uri": "https://localhost:8080/",
          "height": 173
        }
      },
      "source": [
        "enteros = [12454, 73523, 9865, 12310, 12, 864189, 882113, 27, 36, 39654, 4, 481, 1155, 634, 69, 782, 1232, 9433]\n",
        "n_cubetas = 10\n",
        "\n",
        "thmod_mas = THMod(n_cubetas)\n",
        "for i,e in enumerate(enteros):\n",
        "  thmod_mas.insertar(e)\n",
        "print(thmod_mas)"
      ],
      "execution_count": 0,
      "outputs": [
        {
          "output_type": "stream",
          "text": [
            "0::[12310]\n",
            "1::[481]\n",
            "2::[12, 782, 1232]\n",
            "3::[73523, 882113, 9433]\n",
            "4::[12454, 39654, 4, 634]\n",
            "5::[9865, 1155]\n",
            "6::[36]\n",
            "7::[27]\n",
            "9::[864189, 69]\n"
          ],
          "name": "stdout"
        }
      ]
    },
    {
      "cell_type": "markdown",
      "metadata": {
        "id": "TSiy9M6r3PJy",
        "colab_type": "text"
      },
      "source": [
        "Para evitar colisiones podemos aumentar el tamaño de la tabla. Suponiendo que  la función anterior es uniforme, ¿cuál sería la probabilidad de colisión si deseamos almacenar $n$ objetos en una tabla de tamaño $m$? Podemos calcular esta probabilidad como el complemento de la probabilidad que no haya colisión.\n",
        "\n",
        "$$\n",
        "\\begin{align*}\n",
        "Pr[h(x) = h(y)] & = 1 - P[h(x) \\ne h(y)] \\\\\n",
        "& =  1 - \\frac{m}{m} \\times \\frac{m - 1}{m} \\times \\cdots \\times \\frac{m - n + 1}{m} \n",
        "\\end{align*}\n",
        "$$"
      ]
    },
    {
      "cell_type": "code",
      "metadata": {
        "id": "kMT0iboe14bR",
        "colab_type": "code",
        "colab": {}
      },
      "source": [
        "def cumple(m, n):\n",
        "  prod = 1\n",
        "  for i in range(n):\n",
        "    prod *= (m - i) / m\n",
        "  \n",
        "  return 1.0 - prod"
      ],
      "execution_count": 0,
      "outputs": []
    },
    {
      "cell_type": "markdown",
      "metadata": {
        "id": "bRQr5CctiScX",
        "colab_type": "text"
      },
      "source": [
        "Este problema está relacionado a la _paradoja del cumpleaños_, en el cual se tienen un conjunto $n$ de personas y se busca calular la probabilidad de que al menos 2 personas cumplan años el mismo día. En este caso las probabilidades para diferentes valores de $n$ quedan de la siguiente manera:"
      ]
    },
    {
      "cell_type": "code",
      "metadata": {
        "id": "w9mHjqz95XDv",
        "colab_type": "code",
        "outputId": "48a1cb07-e536-462d-96e3-0853d0b9f126",
        "colab": {
          "base_uri": "https://localhost:8080/",
          "height": 265
        }
      },
      "source": [
        "import matplotlib.pyplot as plt\n",
        "\n",
        "pcs = []\n",
        "n_personas = range(1,90,5)\n",
        "for n in n_personas:\n",
        "  pcs.append(cumple(365, n))\n",
        "\n",
        "plt.plot(range(1,90,5), pcs)\n",
        "plt.show()"
      ],
      "execution_count": 0,
      "outputs": [
        {
          "output_type": "display_data",
          "data": {
            "image/png": "[encoded data removed]",
            "text/plain": [
              "<Figure size 432x288 with 1 Axes>"
            ]
          },
          "metadata": {
            "tags": []
          }
        }
      ]
    },
    {
      "cell_type": "markdown",
      "metadata": {
        "id": "0TU3w1E_qr1y",
        "colab_type": "text"
      },
      "source": [
        "Regresando al problema de las colisiones en nuestra tabla, las probabilidades para $m = 100$ y $n = 41$ serían"
      ]
    },
    {
      "cell_type": "code",
      "metadata": {
        "id": "ojLz5tbx6k9Y",
        "colab_type": "code",
        "outputId": "2b8299c2-a8f4-4a90-c819-77686133a449",
        "colab": {
          "base_uri": "https://localhost:8080/",
          "height": 265
        }
      },
      "source": [
        "pcs = []\n",
        "n_personas = range(1,20,5)\n",
        "for n in n_personas:\n",
        "  pcs.append(cumple(10, n))\n",
        "\n",
        "plt.plot(n_personas, pcs)\n",
        "plt.show()"
      ],
      "execution_count": 0,
      "outputs": [
        {
          "output_type": "display_data",
          "data": {
            "image/png": "[encoded data removed]",
            "text/plain": [
              "<Figure size 432x288 with 1 Axes>"
            ]
          },
          "metadata": {
            "tags": []
          }
        }
      ]
    },
    {
      "cell_type": "markdown",
      "metadata": {
        "id": "o-gYft-0rL9r",
        "colab_type": "text"
      },
      "source": [
        "Podemos hacer más grande el tamaño de la tabla para reducir el número de colisiones. La probabilidad de colisión para $n = 41$ y diferentes valores de $m$ es"
      ]
    },
    {
      "cell_type": "code",
      "metadata": {
        "id": "xyEbrSUG8rxZ",
        "colab_type": "code",
        "colab": {}
      },
      "source": [
        "emes = range(1, 1500, 100)\n",
        "n = len(enteros)\n",
        "probs = []\n",
        "for m in emes:\n",
        "  probs.append(cumple(m, n))"
      ],
      "execution_count": 0,
      "outputs": []
    },
    {
      "cell_type": "markdown",
      "metadata": {
        "id": "zGtRphZirk22",
        "colab_type": "text"
      },
      "source": [
        "En lugar de hacer el cálculo de la probabilidad exacta con la función `cumple`, es posible aproximarla de la siguiente manera:\n",
        "\n",
        "$$\n",
        "P[h(x) = h(y)] \\approx 1 - e^{\\frac{-n^2}{2m}}\n",
        "$$"
      ]
    },
    {
      "cell_type": "code",
      "metadata": {
        "colab_type": "code",
        "id": "KIIsqfCcrhlO",
        "colab": {}
      },
      "source": [
        "from math import exp\n",
        "\n",
        "def cumple_aprox(m, n):\n",
        "  return 1.0 - exp((-n**2) / (2 * m))\n",
        "\n",
        "aprox = []\n",
        "for m in emes:\n",
        "  aprox.append(cumple_aprox(m, n))"
      ],
      "execution_count": 0,
      "outputs": []
    },
    {
      "cell_type": "markdown",
      "metadata": {
        "id": "3j3jk8IusOSr",
        "colab_type": "text"
      },
      "source": [
        "Graficamos las probabilidades de colisión con diferentes tamaños de tabla calculadas con las 2 estrategias"
      ]
    },
    {
      "cell_type": "code",
      "metadata": {
        "id": "vDfSsytp-88j",
        "colab_type": "code",
        "outputId": "0bdacd9f-3681-48e1-8fdd-4629e1120aaa",
        "colab": {
          "base_uri": "https://localhost:8080/",
          "height": 265
        }
      },
      "source": [
        "import matplotlib.pyplot as plt\n",
        "\n",
        "plt.plot(emes, probs, label='$P[h(x) = h(y)]$')\n",
        "plt.plot(emes, aprox, label='Aproximación')\n",
        "plt.legend()\n",
        "plt.show()"
      ],
      "execution_count": 0,
      "outputs": [
        {
          "output_type": "display_data",
          "data": {
            "image/png": "[encoded data removed]",
            "text/plain": [
              "<Figure size 432x288 with 1 Axes>"
            ]
          },
          "metadata": {
            "tags": []
          }
        }
      ]
    },
    {
      "cell_type": "markdown",
      "metadata": {
        "id": "hZD6XQnlshN0",
        "colab_type": "text"
      },
      "source": [
        "Elegimos un número de cubetas un poco más grande"
      ]
    },
    {
      "cell_type": "code",
      "metadata": {
        "id": "A8OP_YyK3OkC",
        "colab_type": "code",
        "outputId": "8a43f90d-989b-44f8-b8d8-abe1f5e52fca",
        "colab": {
          "base_uri": "https://localhost:8080/",
          "height": 329
        }
      },
      "source": [
        "n_cubetas = 281\n",
        "\n",
        "thmod_grande = THMod(n_cubetas)\n",
        "for i,e in enumerate(enteros):\n",
        "  thmod_grande.insertar(e)\n",
        "print(thmod_grande)"
      ],
      "execution_count": 0,
      "outputs": [
        {
          "output_type": "stream",
          "text": [
            "4::[4]\n",
            "12::[12]\n",
            "27::[27]\n",
            "30::[9865]\n",
            "31::[1155]\n",
            "33::[39654]\n",
            "36::[36]\n",
            "54::[882113]\n",
            "69::[69]\n",
            "72::[634]\n",
            "90::[12454]\n",
            "108::[1232]\n",
            "114::[864189]\n",
            "160::[9433]\n",
            "182::[73523]\n",
            "200::[481]\n",
            "220::[782]\n",
            "227::[12310]\n"
          ],
          "name": "stdout"
        }
      ]
    },
    {
      "cell_type": "markdown",
      "metadata": {
        "id": "XbKWF7q-0wSf",
        "colab_type": "text"
      },
      "source": [
        "Veamos cómo escala esta tabla con muchos más números"
      ]
    },
    {
      "cell_type": "code",
      "metadata": {
        "id": "z44oPSYf04Hk",
        "colab_type": "code",
        "outputId": "89123c72-5c29-49a4-da7e-65408a5f5420",
        "colab": {
          "base_uri": "https://localhost:8080/",
          "height": 1000
        }
      },
      "source": [
        "import numpy as np\n",
        "\n",
        "conj = np.random.randint(1000, high=5890123, size=200)\n",
        "thmod_mas_grande = THMod(n_cubetas)\n",
        "for i,e in enumerate(conj):\n",
        "  thmod_mas_grande.insertar(e)\n",
        "print(thmod_mas_grande)"
      ],
      "execution_count": 0,
      "outputs": [
        {
          "output_type": "stream",
          "text": [
            "1::[1827063]\n",
            "2::[5689690]\n",
            "3::[4531971]\n",
            "8::[1957735]\n",
            "9::[3091852]\n",
            "10::[2449768, 3951994]\n",
            "11::[80377]\n",
            "12::[2271335]\n",
            "13::[756465]\n",
            "17::[4424362, 2511595]\n",
            "19::[3370333]\n",
            "20::[247300]\n",
            "21::[5541341]\n",
            "26::[3806733]\n",
            "27::[4876501]\n",
            "30::[5267937, 3552151]\n",
            "31::[4183559, 1915889]\n",
            "32::[5247988]\n",
            "36::[4494631, 1377498, 1392953, 4892808]\n",
            "38::[2574841]\n",
            "43::[1591908, 207140]\n",
            "45::[197307]\n",
            "46::[2922446, 968934, 3271448]\n",
            "47::[1144560]\n",
            "48::[1750116, 2371688]\n",
            "53::[4491276, 799217]\n",
            "54::[3156527]\n",
            "55::[260261, 2652976]\n",
            "58::[1186159, 4989213]\n",
            "60::[3959069]\n",
            "62::[911064]\n",
            "64::[1324698, 5218796]\n",
            "66::[3807054]\n",
            "67::[3964134]\n",
            "69::[2601286]\n",
            "72::[4038885, 1854391, 1059723, 2559982]\n",
            "73::[5495028, 3248152]\n",
            "76::[3520163]\n",
            "79::[1343821]\n",
            "80::[4494675]\n",
            "81::[3839103]\n",
            "82::[2056721]\n",
            "83::[3340611]\n",
            "85::[1988441]\n",
            "86::[1828553]\n",
            "87::[5556862]\n",
            "88::[3638476]\n",
            "89::[2697970]\n",
            "93::[1883917, 2145247]\n",
            "94::[1860033, 4488788]\n",
            "95::[5184545]\n",
            "99::[628134, 2017679, 748402]\n",
            "100::[5842652]\n",
            "105::[4494981]\n",
            "106::[2547090]\n",
            "107::[998781]\n",
            "108::[5819899]\n",
            "110::[1156425, 4090627]\n",
            "112::[2041015]\n",
            "113::[1882251, 1073252]\n",
            "119::[3523016]\n",
            "121::[5346708]\n",
            "122::[1502629]\n",
            "123::[1436876]\n",
            "124::[3144233]\n",
            "126::[4338485, 2662601]\n",
            "129::[512954]\n",
            "133::[2855093]\n",
            "134::[931087]\n",
            "135::[1080299]\n",
            "136::[5615640]\n",
            "137::[1227826]\n",
            "140::[4636078]\n",
            "141::[5391688]\n",
            "143::[3927118, 5807851]\n",
            "144::[5251191]\n",
            "146::[3063046]\n",
            "148::[551470]\n",
            "149::[4171313, 1502375]\n",
            "152::[197695]\n",
            "154::[1105046]\n",
            "156::[4539711]\n",
            "157::[525908, 3176862]\n",
            "158::[964550]\n",
            "160::[3936127]\n",
            "161::[3686038]\n",
            "162::[858336]\n",
            "163::[1278151]\n",
            "164::[2484766]\n",
            "165::[5065190]\n",
            "167::[2058492, 3724260]\n",
            "168::[1328455, 4374495, 1932324]\n",
            "169::[3883027, 5501868, 755216]\n",
            "171::[4545346]\n",
            "176::[2199844]\n",
            "177::[2081544, 4330387]\n",
            "179::[3464066]\n",
            "181::[4375913]\n",
            "182::[3610470]\n",
            "186::[5088253]\n",
            "190::[5133217]\n",
            "191::[745403, 1678042, 5690441]\n",
            "193::[4776631]\n",
            "194::[1624655]\n",
            "197::[1293921]\n",
            "198::[2677566]\n",
            "201::[3846248]\n",
            "202::[1077837]\n",
            "203::[2936091, 1224801]\n",
            "209::[3538280, 5390632]\n",
            "210::[4405166, 3248851]\n",
            "213::[346405]\n",
            "214::[224733]\n",
            "216::[4712586, 1953447]\n",
            "217::[450660]\n",
            "218::[948312]\n",
            "219::[4407142]\n",
            "220::[4191335]\n",
            "221::[238509]\n",
            "223::[4028920]\n",
            "224::[4973924, 4819936]\n",
            "227::[1646044, 4777227]\n",
            "228::[2739978]\n",
            "229::[3057228, 1457214]\n",
            "233::[331532]\n",
            "234::[5224586]\n",
            "235::[1357184, 4470664]\n",
            "236::[397851]\n",
            "237::[19907, 2818667, 4845239]\n",
            "238::[306528]\n",
            "240::[4021912]\n",
            "241::[1454416]\n",
            "242::[5072854]\n",
            "246::[4210469, 5306088, 5345709, 4860703]\n",
            "248::[1708166]\n",
            "249::[3113729]\n",
            "251::[3294414]\n",
            "253::[1817761, 5261697]\n",
            "254::[653017]\n",
            "256::[4921409]\n",
            "259::[3425368]\n",
            "261::[4659241, 2281700]\n",
            "263::[4726402]\n",
            "267::[1772534]\n",
            "269::[5145098]\n",
            "274::[3829180]\n",
            "279::[2262610]\n",
            "280::[2091763]\n"
          ],
          "name": "stdout"
        }
      ]
    },
    {
      "cell_type": "markdown",
      "metadata": {
        "id": "NdBQD3U2vSds",
        "colab_type": "text"
      },
      "source": [
        "## Direccionamiento abierto\n",
        "\n",
        "En lugar de usar encadenamiento, podemos usar direccionamiento abierto resolver colisiones. En esta estrategia, si hay una colisión, se sondean otras cubetas o registros en la tabla hasta encontrar una libre. Si no hay ninguna disponible decimos que la tabla está llena y es necesario aumentar su tamaño para poder almacenar más objetos. \n",
        "\n",
        "Para determinar el siguiente índice a examinar es necesario extender la función hash para que incorpore la información de índice. Esta función debe garantizar que se examinen todos los índices en caso de que ninguno esté disponible. \n",
        "\n",
        "### Sondeo lineal\n",
        "Una estrategia común para extender nuestra función _hash_ es el sondeo lineal, el cual está dado por\n",
        "\n",
        "$$\n",
        "h(x, i) = (h'(x) + i)\\mod{m}\n",
        "$$\n"
      ]
    },
    {
      "cell_type": "code",
      "metadata": {
        "id": "hQR1PIsnyCPt",
        "colab_type": "code",
        "colab": {}
      },
      "source": [
        "class THModOA(TablaHash):\n",
        "  def h(self, x, i):\n",
        "    return (x % self.n_cubetas + i) % self.n_cubetas\n",
        "\n",
        "  def insertar(self, x):\n",
        "    llena = True\n",
        "    for i in range(self.n_cubetas):\n",
        "      if not self.tabla[self.h(x, i)]:\n",
        "        self.tabla[self.h(x, i)].append(x)\n",
        "        llena = False\n",
        "        break\n",
        "\n",
        "    if llena:\n",
        "      print('Tabla llena')\n",
        "\n",
        "  def buscar(self, x):\n",
        "    for i in range(self.n_cubetas):\n",
        "      if self.tabla[self.h(x, i)][0] == x:\n",
        "        return self.h(x, i)\n",
        "\n",
        "    return -1\n",
        "\n",
        "  def eliminar(self, x):\n",
        "    for i in range(self.n_cubetas):\n",
        "      if self.tabla[self.h(x, i)][0] == x:\n",
        "        self.tabla[self.h(x, i)].remove(x)"
      ],
      "execution_count": 0,
      "outputs": []
    },
    {
      "cell_type": "markdown",
      "metadata": {
        "id": "XYg-6MR01hXF",
        "colab_type": "text"
      },
      "source": [
        "Intentemos nuevamente con el conjunto anterior usando esta estrategia"
      ]
    },
    {
      "cell_type": "code",
      "metadata": {
        "id": "ZLhbdp9P1oFV",
        "colab_type": "code",
        "outputId": "301d71a0-3b56-4668-f78b-26aeadca26c4",
        "colab": {
          "base_uri": "https://localhost:8080/",
          "height": 1000
        }
      },
      "source": [
        "thmodoa = THModOA(n_cubetas)\n",
        "for i,e in enumerate(conj):\n",
        "  thmodoa.insertar(e)\n",
        "print(thmodoa)"
      ],
      "execution_count": 0,
      "outputs": [
        {
          "output_type": "stream",
          "text": [
            "1::[1827063]\n",
            "2::[5689690]\n",
            "3::[4531971]\n",
            "8::[1957735]\n",
            "9::[3091852]\n",
            "10::[2449768]\n",
            "11::[80377]\n",
            "12::[3951994]\n",
            "13::[756465]\n",
            "14::[2271335]\n",
            "17::[4424362]\n",
            "18::[2511595]\n",
            "19::[3370333]\n",
            "20::[247300]\n",
            "21::[5541341]\n",
            "26::[3806733]\n",
            "27::[4876501]\n",
            "30::[5267937]\n",
            "31::[4183559]\n",
            "32::[5247988]\n",
            "33::[3552151]\n",
            "34::[1915889]\n",
            "36::[4494631]\n",
            "37::[1377498]\n",
            "38::[2574841]\n",
            "39::[1392953]\n",
            "40::[4892808]\n",
            "43::[1591908]\n",
            "44::[207140]\n",
            "45::[197307]\n",
            "46::[2922446]\n",
            "47::[1144560]\n",
            "48::[1750116]\n",
            "49::[2371688]\n",
            "50::[968934]\n",
            "51::[3271448]\n",
            "53::[4491276]\n",
            "54::[799217]\n",
            "55::[260261]\n",
            "56::[2652976]\n",
            "57::[3156527]\n",
            "58::[1186159]\n",
            "59::[4989213]\n",
            "60::[3959069]\n",
            "62::[911064]\n",
            "64::[1324698]\n",
            "65::[5218796]\n",
            "66::[3807054]\n",
            "67::[3964134]\n",
            "69::[2601286]\n",
            "72::[4038885]\n",
            "73::[1854391]\n",
            "74::[5495028]\n",
            "75::[1059723]\n",
            "76::[3520163]\n",
            "77::[2559982]\n",
            "78::[3248152]\n",
            "79::[1343821]\n",
            "80::[4494675]\n",
            "81::[3839103]\n",
            "82::[2056721]\n",
            "83::[3340611]\n",
            "85::[1988441]\n",
            "86::[1828553]\n",
            "87::[5556862]\n",
            "88::[3638476]\n",
            "89::[2697970]\n",
            "93::[1883917]\n",
            "94::[2145247]\n",
            "95::[1860033]\n",
            "96::[5184545]\n",
            "97::[4488788]\n",
            "99::[628134]\n",
            "100::[2017679]\n",
            "101::[748402]\n",
            "102::[5842652]\n",
            "105::[4494981]\n",
            "106::[2547090]\n",
            "107::[998781]\n",
            "108::[5819899]\n",
            "110::[1156425]\n",
            "111::[4090627]\n",
            "112::[2041015]\n",
            "113::[1882251]\n",
            "114::[1073252]\n",
            "119::[3523016]\n",
            "121::[5346708]\n",
            "122::[1502629]\n",
            "123::[1436876]\n",
            "124::[3144233]\n",
            "126::[4338485]\n",
            "127::[2662601]\n",
            "129::[512954]\n",
            "133::[2855093]\n",
            "134::[931087]\n",
            "135::[1080299]\n",
            "136::[5615640]\n",
            "137::[1227826]\n",
            "140::[4636078]\n",
            "141::[5391688]\n",
            "143::[3927118]\n",
            "144::[5251191]\n",
            "145::[5807851]\n",
            "146::[3063046]\n",
            "148::[551470]\n",
            "149::[4171313]\n",
            "150::[1502375]\n",
            "152::[197695]\n",
            "154::[1105046]\n",
            "156::[4539711]\n",
            "157::[525908]\n",
            "158::[964550]\n",
            "159::[3176862]\n",
            "160::[3936127]\n",
            "161::[3686038]\n",
            "162::[858336]\n",
            "163::[1278151]\n",
            "164::[2484766]\n",
            "165::[5065190]\n",
            "167::[2058492]\n",
            "168::[1328455]\n",
            "169::[3883027]\n",
            "170::[5501868]\n",
            "171::[4545346]\n",
            "172::[4374495]\n",
            "173::[755216]\n",
            "174::[1932324]\n",
            "175::[3724260]\n",
            "176::[2199844]\n",
            "177::[2081544]\n",
            "178::[4330387]\n",
            "179::[3464066]\n",
            "181::[4375913]\n",
            "182::[3610470]\n",
            "186::[5088253]\n",
            "190::[5133217]\n",
            "191::[745403]\n",
            "192::[1678042]\n",
            "193::[5690441]\n",
            "194::[4776631]\n",
            "195::[1624655]\n",
            "197::[1293921]\n",
            "198::[2677566]\n",
            "201::[3846248]\n",
            "202::[1077837]\n",
            "203::[2936091]\n",
            "204::[1224801]\n",
            "209::[3538280]\n",
            "210::[4405166]\n",
            "211::[3248851]\n",
            "212::[5390632]\n",
            "213::[346405]\n",
            "214::[224733]\n",
            "216::[4712586]\n",
            "217::[1953447]\n",
            "218::[450660]\n",
            "219::[948312]\n",
            "220::[4191335]\n",
            "221::[238509]\n",
            "222::[4407142]\n",
            "223::[4028920]\n",
            "224::[4973924]\n",
            "225::[4819936]\n",
            "227::[1646044]\n",
            "228::[4777227]\n",
            "229::[3057228]\n",
            "230::[1457214]\n",
            "231::[2739978]\n",
            "233::[331532]\n",
            "234::[5224586]\n",
            "235::[1357184]\n",
            "236::[397851]\n",
            "237::[19907]\n",
            "238::[2818667]\n",
            "239::[306528]\n",
            "240::[4021912]\n",
            "241::[1454416]\n",
            "242::[5072854]\n",
            "243::[4845239]\n",
            "244::[4470664]\n",
            "246::[4210469]\n",
            "247::[5306088]\n",
            "248::[1708166]\n",
            "249::[5345709]\n",
            "250::[3113729]\n",
            "251::[3294414]\n",
            "252::[4860703]\n",
            "253::[1817761]\n",
            "254::[653017]\n",
            "255::[5261697]\n",
            "256::[4921409]\n",
            "259::[3425368]\n",
            "261::[4659241]\n",
            "262::[2281700]\n",
            "263::[4726402]\n",
            "267::[1772534]\n",
            "269::[5145098]\n",
            "274::[3829180]\n",
            "279::[2262610]\n",
            "280::[2091763]\n"
          ],
          "name": "stdout"
        }
      ]
    },
    {
      "cell_type": "markdown",
      "metadata": {
        "id": "DXXu94ynjVQ7",
        "colab_type": "text"
      },
      "source": [
        "## Familias por método de multiplicación\n",
        "Otra estrategia para diseñar funciones _hash_ es el de multiplicación. En este método primero se multiplica el objeto $x$ por una constante $a \\in (0,1)$ y se extrae la parte fraccional de $a x$. Posteriormente, se multiplica este valor por $m$ y se toma la función piso $\\lfloor\\rfloor$\n",
        "$$\n",
        "h(x) = \\lfloor m (x a \\mod 1)\\rfloor\n",
        "$$\n",
        "\n",
        "donde $a$ es una constante."
      ]
    },
    {
      "cell_type": "code",
      "metadata": {
        "id": "ma5iEI2hkCgb",
        "colab_type": "code",
        "colab": {}
      },
      "source": [
        "from math import floor, sqrt\n",
        "\n",
        "class THMult(TablaHash):\n",
        "  def __init__(self, n_cubetas, a):\n",
        "    self.n_cubetas = n_cubetas\n",
        "    self.tabla = [[] for i in range(n_cubetas)]\n",
        "    self.a = a\n",
        "  \n",
        "  def h(self, x, i):\n",
        "    return (floor(((self.a * x) % 1) * self.n_cubetas) + i) % self.n_cubetas\n",
        "\n",
        "  def insertar(self, x):\n",
        "    llena = True\n",
        "    for i in range(self.n_cubetas):\n",
        "      if not self.tabla[self.h(x, i)]:\n",
        "        self.tabla[self.h(x, i)].append(x)\n",
        "        llena = False\n",
        "        break\n",
        "\n",
        "    if llena:\n",
        "      print('Tabla llena')\n",
        "\n",
        "  def buscar(self, x):\n",
        "    for i in range(self.n_cubetas):\n",
        "      if self.tabla[self.h(x, i)][0] == x:\n",
        "        return self.h(x, i)\n",
        "\n",
        "    return -1\n",
        "\n",
        "  def eliminar(self, x):\n",
        "    for i in range(self.n_cubetas):\n",
        "      if self.tabla[self.h(x, i)][0] == x:\n",
        "        self.tabla[self.h(x, i)].remove(x)"
      ],
      "execution_count": 0,
      "outputs": []
    },
    {
      "cell_type": "markdown",
      "metadata": {
        "id": "fuS5T2XC3lvh",
        "colab_type": "text"
      },
      "source": [
        "Aunque $a$ puede tomar cualquier valor en el intervalo $(0,1)$, hay algunos valores que funcionan mejor que otros. Donald Knuth recomienda $a \\approx \\frac{\\sqrt{5} - 1}{2}$"
      ]
    },
    {
      "cell_type": "code",
      "metadata": {
        "id": "KdEUfs2u7tui",
        "colab_type": "code",
        "outputId": "b81a27e2-52ed-4634-c718-06d824814b86",
        "colab": {
          "base_uri": "https://localhost:8080/",
          "height": 329
        }
      },
      "source": [
        "thm = THMult(281, (sqrt(5) - 1) / 2)\n",
        "for i,e in enumerate(enteros):\n",
        "  thm.insertar(e)\n",
        "print(thm)"
      ],
      "execution_count": 0,
      "outputs": [
        {
          "output_type": "stream",
          "text": [
            "49::[864189]\n",
            "70::[36]\n",
            "77::[481]\n",
            "85::[782]\n",
            "117::[12]\n",
            "118::[1232]\n",
            "132::[4]\n",
            "146::[39654]\n",
            "181::[69]\n",
            "193::[27]\n",
            "200::[73523]\n",
            "229::[882113]\n",
            "233::[1155]\n",
            "234::[634]\n",
            "254::[9865]\n",
            "257::[9433]\n",
            "279::[12454]\n",
            "280::[12310]\n"
          ],
          "name": "stdout"
        }
      ]
    },
    {
      "cell_type": "markdown",
      "metadata": {
        "id": "KGAVP2FEf4aI",
        "colab_type": "text"
      },
      "source": [
        "## Ejercicio\n",
        "Realiza lo siguiente:\n",
        "+ Implementa una tabla que realice sondeo cuadrático.\n",
        "+ Desarrolla un programa que cuente el número de ocurrencias de todas las subcadenas de longitud entre 5 a 10 (sin considerar espacios en blanco ni signos de admiración/interrogación ni caracteres especiales) usando funciones y tablas _hash_.\n"
      ]
    }
  ]
}