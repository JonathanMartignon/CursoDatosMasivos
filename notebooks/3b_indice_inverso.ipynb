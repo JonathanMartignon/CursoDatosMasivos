{
  "nbformat": 4,
  "nbformat_minor": 0,
  "metadata": {
    "colab": {
      "name": "3c_indice_inverso.ipynb",
      "provenance": [],
      "collapsed_sections": [],
      "authorship_tag": "ABX9TyPoRKk0rNQVI9kUi60l3CbA",
      "include_colab_link": true
    },
    "kernelspec": {
      "name": "python3",
      "display_name": "Python 3"
    }
  },
  "cells": [
    {
      "cell_type": "markdown",
      "metadata": {
        "id": "view-in-github",
        "colab_type": "text"
      },
      "source": [
        "<a href=\"https://colab.research.google.com/github/blancavazquez/CursoDatosMasivos/blob/master/notebooks/3b_indice_inverso.ipynb\" target=\"_parent\"><img src=\"https://colab.research.google.com/assets/colab-badge.svg\" alt=\"Open In Colab\"/></a>"
      ]
    },
    {
      "cell_type": "markdown",
      "metadata": {
        "id": "zZc0qoq45QZ9",
        "colab_type": "text"
      },
      "source": [
        "# Búsqueda de documentos por índice inverso\n",
        "En esta libreta desarrollaremos un buscador de documentos usando índice inverso\n",
        "\n",
        "## Búsqueda de documentos por palabras\n",
        "Primero vamos a ver cómo hacer búsqueda de documentos por palabras"
      ]
    },
    {
      "cell_type": "code",
      "metadata": {
        "id": "Brc5K6N64dq8",
        "colab_type": "code",
        "colab": {}
      },
      "source": [
        "import numpy as np\n",
        "import matplotlib.pyplot as plt\n",
        "\n",
        "from sklearn.datasets import fetch_20newsgroups\n",
        "from sklearn.feature_extraction.text import CountVectorizer"
      ],
      "execution_count": 0,
      "outputs": []
    },
    {
      "cell_type": "markdown",
      "metadata": {
        "id": "IB7PJYVNKoRt",
        "colab_type": "text"
      },
      "source": [
        "Descargamos el conjunto de datos _20 newsgroups_"
      ]
    },
    {
      "cell_type": "code",
      "metadata": {
        "id": "BrIWmtSvLthy",
        "colab_type": "code",
        "colab": {}
      },
      "source": [
        "db = fetch_20newsgroups(remove=('headers','footers','quotes'))"
      ],
      "execution_count": 0,
      "outputs": []
    },
    {
      "cell_type": "markdown",
      "metadata": {
        "id": "hIjyKsuXKxRK",
        "colab_type": "text"
      },
      "source": [
        "Vemos cómo luce un documento"
      ]
    },
    {
      "cell_type": "code",
      "metadata": {
        "id": "uMmjgTjizAxL",
        "colab_type": "code",
        "outputId": "372dbe4b-5e30-41c9-de11-b5f567bcd5a8",
        "colab": {
          "base_uri": "https://localhost:8080/",
          "height": 139
        }
      },
      "source": [
        "print(db.data[0])"
      ],
      "execution_count": 3,
      "outputs": [
        {
          "output_type": "stream",
          "text": [
            "I was wondering if anyone out there could enlighten me on this car I saw\n",
            "the other day. It was a 2-door sports car, looked to be from the late 60s/\n",
            "early 70s. It was called a Bricklin. The doors were really small. In addition,\n",
            "the front bumper was separate from the rest of the body. This is \n",
            "all I know. If anyone can tellme a model name, engine specs, years\n",
            "of production, where this car is made, history, or whatever info you\n",
            "have on this funky looking car, please e-mail.\n"
          ],
          "name": "stdout"
        }
      ]
    },
    {
      "cell_type": "markdown",
      "metadata": {
        "id": "q-cS3JNqK2D4",
        "colab_type": "text"
      },
      "source": [
        "Concatenamos todos los documentos en una sola cadena y la partimos en palabras para crear el vocabulario"
      ]
    },
    {
      "cell_type": "code",
      "metadata": {
        "id": "JHsuI3k10Gng",
        "colab_type": "code",
        "outputId": "b2f8e948-836c-4256-f1df-a1cc94b9215b",
        "colab": {
          "base_uri": "https://localhost:8080/",
          "height": 35
        }
      },
      "source": [
        "texto = ' '.join(db.data) \n",
        "palabras = [p for p in texto.split() if p.isalnum()]\n",
        "print(palabras[:10])"
      ],
      "execution_count": 4,
      "outputs": [
        {
          "output_type": "stream",
          "text": [
            "['I', 'was', 'wondering', 'if', 'anyone', 'out', 'there', 'could', 'enlighten', 'me']\n"
          ],
          "name": "stdout"
        }
      ]
    },
    {
      "cell_type": "markdown",
      "metadata": {
        "id": "1cM-pZbeLBSh",
        "colab_type": "text"
      },
      "source": [
        "Indizamos las palabras y contamos sus frecuencias en el conjunto"
      ]
    },
    {
      "cell_type": "code",
      "metadata": {
        "id": "OvRpikUI3XA3",
        "colab_type": "code",
        "colab": {}
      },
      "source": [
        "from collections import Counter\n",
        "\n",
        "vocab = Counter()\n",
        "for p in palabras:\n",
        "    vocab[p] += 1"
      ],
      "execution_count": 0,
      "outputs": []
    },
    {
      "cell_type": "markdown",
      "metadata": {
        "id": "KrWu4lFSLQ2q",
        "colab_type": "text"
      },
      "source": [
        "Graficamos los histogramas de frecuencias de palabras en el conjunto"
      ]
    },
    {
      "cell_type": "code",
      "metadata": {
        "id": "dpq9n7uTLWqQ",
        "colab_type": "code",
        "outputId": "12747187-4570-4dff-91b7-6e733a9a450e",
        "colab": {
          "base_uri": "https://localhost:8080/",
          "height": 269
        }
      },
      "source": [
        "hist = np.array(list(vocab.values()))\n",
        "plt.hist(hist, bins=10000)\n",
        "plt.ylim([0,100])\n",
        "plt.show()"
      ],
      "execution_count": 6,
      "outputs": [
        {
          "output_type": "display_data",
          "data": {
            "image/png": "[encoded data removed]",
            "text/plain": [
              "<Figure size 432x288 with 1 Axes>"
            ]
          },
          "metadata": {
            "tags": []
          }
        }
      ]
    },
    {
      "cell_type": "markdown",
      "metadata": {
        "id": "drmTbXrFLdoL",
        "colab_type": "text"
      },
      "source": [
        "Importamos la biblioteca NLTK y definimos nuestro analizador léxico y lematizador"
      ]
    },
    {
      "cell_type": "code",
      "metadata": {
        "id": "F9HE8AS41yYD",
        "colab_type": "code",
        "outputId": "b18dec07-a758-42c0-c856-67fd1656be5b",
        "colab": {
          "base_uri": "https://localhost:8080/",
          "height": 156
        }
      },
      "source": [
        "import nltk\n",
        "nltk.download(['punkt','averaged_perceptron_tagger','wordnet'])\n",
        "from nltk.stem import WordNetLemmatizer\n",
        "from nltk import word_tokenize, pos_tag\n",
        "from nltk.corpus import wordnet\n",
        "from nltk.corpus.reader.wordnet import NOUN, VERB, ADV, ADJ\n",
        "\n",
        "morphy_tag = {\n",
        "    'JJ' : ADJ,\n",
        "    'JJR' : ADJ,\n",
        "    'JJS' : ADJ,\n",
        "    'VB' : VERB,\n",
        "    'VBD' : VERB,\n",
        "    'VBG' : VERB,\n",
        "    'VBN' : VERB,\n",
        "    'VBP' : VERB,\n",
        "    'VBZ' : VERB,\n",
        "    'RB' : ADV,\n",
        "    'RBR' : ADV,\n",
        "    'RBS' : ADV\n",
        "}\n",
        "\n",
        "def doc_a_tokens(doc):\n",
        "  tagged = pos_tag(word_tokenize(doc.lower()))\n",
        "  lemmatizer = WordNetLemmatizer()\n",
        "  tokens = []\n",
        "  for p,t in tagged:\n",
        "    tokens.append(lemmatizer.lemmatize(p, pos=morphy_tag.get(t, NOUN)))\n",
        "\n",
        "  return tokens"
      ],
      "execution_count": 7,
      "outputs": [
        {
          "output_type": "stream",
          "text": [
            "[nltk_data] Downloading package punkt to /root/nltk_data...\n",
            "[nltk_data]   Package punkt is already up-to-date!\n",
            "[nltk_data] Downloading package averaged_perceptron_tagger to\n",
            "[nltk_data]     /root/nltk_data...\n",
            "[nltk_data]   Package averaged_perceptron_tagger is already up-to-\n",
            "[nltk_data]       date!\n",
            "[nltk_data] Downloading package wordnet to /root/nltk_data...\n",
            "[nltk_data]   Package wordnet is already up-to-date!\n"
          ],
          "name": "stdout"
        }
      ]
    },
    {
      "cell_type": "markdown",
      "metadata": {
        "id": "OBHJ4RGvLzZB",
        "colab_type": "text"
      },
      "source": [
        "Guardamos el conjunto preprocesado como una lista de cadenas, una por documento"
      ]
    },
    {
      "cell_type": "code",
      "metadata": {
        "id": "lv7kFB151Kpi",
        "colab_type": "code",
        "colab": {}
      },
      "source": [
        "corpus = []\n",
        "for d in db.data:\n",
        "  d = d.replace('\\n',' ').replace('\\r',' ').replace('\\t',' ')\n",
        "  tokens = doc_a_tokens(d)\n",
        "  corpus.append(' '.join(tokens))"
      ],
      "execution_count": 0,
      "outputs": []
    },
    {
      "cell_type": "markdown",
      "metadata": {
        "id": "t3JFW9TJL-ne",
        "colab_type": "text"
      },
      "source": [
        "Obtenemos las bolsas de palabras de los documentos preprocesados usando la clase `CountVectorizer` de scikit-learn"
      ]
    },
    {
      "cell_type": "code",
      "metadata": {
        "id": "S3xcTfR7y8wE",
        "colab_type": "code",
        "colab": {}
      },
      "source": [
        "v = CountVectorizer(corpus, stop_words='english', max_features=5000, max_df=0.8)\n",
        "bolsas = v.fit_transform(db.data)"
      ],
      "execution_count": 0,
      "outputs": []
    },
    {
      "cell_type": "markdown",
      "metadata": {
        "id": "DzMlsq3yMNVY",
        "colab_type": "text"
      },
      "source": [
        "Definimos la clase para el índice inverso con un método para recuperar los documentos que contienen una lista de palabras"
      ]
    },
    {
      "cell_type": "code",
      "metadata": {
        "id": "0GbZGIJk5PpW",
        "colab_type": "code",
        "colab": {}
      },
      "source": [
        "class IndiceInverso:\n",
        "  def  __getitem__(self, idx):\n",
        "    return self.ifs[idx]\n",
        "\n",
        "  def recupera(self, l):\n",
        "    docs = Counter()\n",
        "    for (i,_) in l:\n",
        "      docs.update(self.ifs[i])\n",
        "\n",
        "    return docs\n",
        "\n",
        "  def from_csr(self, csr):\n",
        "    self.ifs = [[] for _ in range(csr.shape[1])]\n",
        "    coo = csr.tocoo()    \n",
        "    for i,j,v in zip(coo.row, coo.col, coo.data):\n",
        "      self.ifs[j].append(i)"
      ],
      "execution_count": 0,
      "outputs": []
    },
    {
      "cell_type": "markdown",
      "metadata": {
        "id": "PJsXZed3Ma2F",
        "colab_type": "text"
      },
      "source": [
        "Instanciamos nuestra clase `IndiceInverso` y creamos la estructura a partir de nuestras bolsas de palabras"
      ]
    },
    {
      "cell_type": "code",
      "metadata": {
        "id": "Tz5ID-PWMFJy",
        "colab_type": "code",
        "colab": {}
      },
      "source": [
        "ifs = IndiceInverso()\n",
        "ifs.from_csr(bolsas)"
      ],
      "execution_count": 0,
      "outputs": []
    },
    {
      "cell_type": "markdown",
      "metadata": {
        "id": "Xf99uD3rsCvn",
        "colab_type": "text"
      },
      "source": [
        "Definimos una función que convierta de arreglos dispersos CSR a listas de listas"
      ]
    },
    {
      "cell_type": "code",
      "metadata": {
        "id": "zutKnKIeSt4O",
        "colab_type": "code",
        "colab": {}
      },
      "source": [
        "def csr_to_ldb(csr):\n",
        "  ldb = [[] for _ in range(csr.shape[0])]\n",
        "  coo = csr.tocoo()    \n",
        "  for i,j,v in zip(coo.row, coo.col, coo.data):\n",
        "    ldb[i].append((j, v))\n",
        "\n",
        "  return ldb"
      ],
      "execution_count": 0,
      "outputs": []
    },
    {
      "cell_type": "markdown",
      "metadata": {
        "id": "EAiKoj73qlLi",
        "colab_type": "text"
      },
      "source": [
        "Generamos algunas consultas y calculamos sus bolsas de palabras"
      ]
    },
    {
      "cell_type": "code",
      "metadata": {
        "id": "Tcpc5w9VSLIy",
        "colab_type": "code",
        "colab": {}
      },
      "source": [
        "consultas = []\n",
        "for c in ['nasa space mission satellite','government crime enforcement security']:\n",
        "  tokens = doc_a_tokens(c)\n",
        "  consultas.append(' '.join(tokens))\n",
        "\n",
        "bc = v.transform(consultas)\n",
        "cl = csr_to_ldb(bc)"
      ],
      "execution_count": 0,
      "outputs": []
    },
    {
      "cell_type": "markdown",
      "metadata": {
        "id": "i5m2rdz-quuP",
        "colab_type": "text"
      },
      "source": [
        "Usamos el índice inverso para recuperar los documentos que contienen las palabras de la primera consultas ordenados por coincidencias y visualizamos el primer documento recuperado"
      ]
    },
    {
      "cell_type": "code",
      "metadata": {
        "id": "GUpNTuE1I8tu",
        "colab_type": "code",
        "outputId": "57eb7d8c-823c-4adf-a921-95d375e1e747",
        "colab": {
          "base_uri": "https://localhost:8080/",
          "height": 1000
        }
      },
      "source": [
        "recs = ifs.recupera(cl[0])\n",
        "top = recs.most_common()[0]\n",
        "print(db.data[top[0]])"
      ],
      "execution_count": 14,
      "outputs": [
        {
          "output_type": "stream",
          "text": [
            "Archive-name: space/new_probes\n",
            "Last-modified: $Date: 93/04/01 14:39:17 $\n",
            "\n",
            "UPCOMING PLANETARY PROBES - MISSIONS AND SCHEDULES\n",
            "\n",
            "    Information on upcoming or currently active missions not mentioned below\n",
            "    would be welcome. Sources: NASA fact sheets, Cassini Mission Design\n",
            "    team, ISAS/NASDA launch schedules, press kits.\n",
            "\n",
            "\n",
            "    ASUKA (ASTRO-D) - ISAS (Japan) X-ray astronomy satellite, launched into\n",
            "    Earth orbit on 2/20/93. Equipped with large-area wide-wavelength (1-20\n",
            "    Angstrom) X-ray telescope, X-ray CCD cameras, and imaging gas\n",
            "    scintillation proportional counters.\n",
            "\n",
            "\n",
            "    CASSINI - Saturn orbiter and Titan atmosphere probe. Cassini is a joint\n",
            "    NASA/ESA project designed to accomplish an exploration of the Saturnian\n",
            "    system with its Cassini Saturn Orbiter and Huygens Titan Probe. Cassini\n",
            "    is scheduled for launch aboard a Titan IV/Centaur in October of 1997.\n",
            "    After gravity assists of Venus, Earth and Jupiter in a VVEJGA\n",
            "    trajectory, the spacecraft will arrive at Saturn in June of 2004. Upon\n",
            "    arrival, the Cassini spacecraft performs several maneuvers to achieve an\n",
            "    orbit around Saturn. Near the end of this initial orbit, the Huygens\n",
            "    Probe separates from the Orbiter and descends through the atmosphere of\n",
            "    Titan. The Orbiter relays the Probe data to Earth for about 3 hours\n",
            "    while the Probe enters and traverses the cloudy atmosphere to the\n",
            "    surface. After the completion of the Probe mission, the Orbiter\n",
            "    continues touring the Saturnian system for three and a half years. Titan\n",
            "    synchronous orbit trajectories will allow about 35 flybys of Titan and\n",
            "    targeted flybys of Iapetus, Dione and Enceladus. The objectives of the\n",
            "    mission are threefold: conduct detailed studies of Saturn's atmosphere,\n",
            "    rings and magnetosphere; conduct close-up studies of Saturn's\n",
            "    satellites, and characterize Titan's atmosphere and surface.\n",
            "\n",
            "    One of the most intriguing aspects of Titan is the possibility that its\n",
            "    surface may be covered in part with lakes of liquid hydrocarbons that\n",
            "    result from photochemical processes in its upper atmosphere. These\n",
            "    hydrocarbons condense to form a global smog layer and eventually rain\n",
            "    down onto the surface. The Cassini orbiter will use onboard radar to\n",
            "    peer through Titan's clouds and determine if there is liquid on the\n",
            "    surface. Experiments aboard both the orbiter and the entry probe will\n",
            "    investigate the chemical processes that produce this unique atmosphere.\n",
            "\n",
            "    The Cassini mission is named for Jean Dominique Cassini (1625-1712), the\n",
            "    first director of the Paris Observatory, who discovered several of\n",
            "    Saturn's satellites and the major division in its rings. The Titan\n",
            "    atmospheric entry probe is named for the Dutch physicist Christiaan\n",
            "    Huygens (1629-1695), who discovered Titan and first described the true\n",
            "    nature of Saturn's rings.\n",
            "\n",
            "\t Key Scheduled Dates for the Cassini Mission (VVEJGA Trajectory)\n",
            "\t -------------------------------------------------------------\n",
            "\t   10/06/97 - Titan IV/Centaur Launch\n",
            "\t   04/21/98 - Venus 1 Gravity Assist\n",
            "\t   06/20/99 - Venus 2 Gravity Assist\n",
            "\t   08/16/99 - Earth Gravity Assist\n",
            "\t   12/30/00 - Jupiter Gravity Assist\n",
            "\t   06/25/04 - Saturn Arrival\n",
            "\t   01/09/05 - Titan Probe Release\n",
            "\t   01/30/05 - Titan Probe Entry\n",
            "\t   06/25/08 - End of Primary Mission\n",
            "\t    (Schedule last updated 7/22/92)\n",
            "\n",
            "\n",
            "    GALILEO - Jupiter orbiter and atmosphere probe, in transit. Has returned\n",
            "    the first resolved images of an asteroid, Gaspra, while in transit to\n",
            "    Jupiter. Efforts to unfurl the stuck High-Gain Antenna (HGA) have\n",
            "    essentially been abandoned. JPL has developed a backup plan using data\n",
            "    compression (JPEG-like for images, lossless compression for data from\n",
            "    the other instruments) which should allow the mission to achieve\n",
            "    approximately 70% of its original objectives.\n",
            "\n",
            "\t   Galileo Schedule\n",
            "\t   ----------------\n",
            "\t   10/18/89 - Launch from Space Shuttle\n",
            "\t   02/09/90 - Venus Flyby\n",
            "\t   10/**/90 - Venus Data Playback\n",
            "\t   12/08/90 - 1st Earth Flyby\n",
            "\t   05/01/91 - High Gain Antenna Unfurled\n",
            "\t   07/91 - 06/92 - 1st Asteroid Belt Passage\n",
            "\t   10/29/91 - Asteroid Gaspra Flyby\n",
            "\t   12/08/92 - 2nd Earth Flyby\n",
            "\t   05/93 - 11/93 - 2nd Asteroid Belt Passage\n",
            "\t   08/28/93 - Asteroid Ida Flyby\n",
            "\t   07/02/95 - Probe Separation\n",
            "\t   07/09/95 - Orbiter Deflection Maneuver\n",
            "\t   12/95 - 10/97 - Orbital Tour of Jovian Moons\n",
            "\t   12/07/95 - Jupiter/Io Encounter\n",
            "\t   07/18/96 - Ganymede\n",
            "\t   09/28/96 - Ganymede\n",
            "\t   12/12/96 - Callisto\n",
            "\t   01/23/97 - Europa\n",
            "\t   02/28/97 - Ganymede\n",
            "\t   04/22/97 - Europa\n",
            "\t   05/31/97 - Europa\n",
            "\t   10/05/97 - Jupiter Magnetotail Exploration\n",
            "\n",
            "\n",
            "    HITEN - Japanese (ISAS) lunar probe launched 1/24/90. Has made\n",
            "    multiple lunar flybys. Released Hagoromo, a smaller satellite,\n",
            "    into lunar orbit. This mission made Japan the third nation to\n",
            "    orbit a satellite around the Moon.\n",
            "\n",
            "\n",
            "    MAGELLAN - Venus radar mapping mission. Has mapped almost the entire\n",
            "    surface at high resolution. Currently (4/93) collecting a global gravity\n",
            "    map.\n",
            "\n",
            "\n",
            "    MARS OBSERVER - Mars orbiter including 1.5 m/pixel resolution camera.\n",
            "    Launched 9/25/92 on a Titan III/TOS booster. MO is currently (4/93) in\n",
            "    transit to Mars, arriving on 8/24/93. Operations will start 11/93 for\n",
            "    one martian year (687 days).\n",
            "\n",
            "\n",
            "    TOPEX/Poseidon - Joint US/French Earth observing satellite, launched\n",
            "    8/10/92 on an Ariane 4 booster. The primary objective of the\n",
            "    TOPEX/POSEIDON project is to make precise and accurate global\n",
            "    observations of the sea level for several years, substantially\n",
            "    increasing understanding of global ocean dynamics. The satellite also\n",
            "    will increase understanding of how heat is transported in the ocean.\n",
            "\n",
            "\n",
            "    ULYSSES- European Space Agency probe to study the Sun from an orbit over\n",
            "    its poles. Launched in late 1990, it carries particles-and-fields\n",
            "    experiments (such as magnetometer, ion and electron collectors for\n",
            "    various energy ranges, plasma wave radio receivers, etc.) but no camera.\n",
            "\n",
            "    Since no human-built rocket is hefty enough to send Ulysses far out of\n",
            "    the ecliptic plane, it went to Jupiter instead, and stole energy from\n",
            "    that planet by sliding over Jupiter's north pole in a gravity-assist\n",
            "    manuver in February 1992. This bent its path into a solar orbit tilted\n",
            "    about 85 degrees to the ecliptic. It will pass over the Sun's south pole\n",
            "    in the summer of 1993. Its aphelion is 5.2 AU, and, surprisingly, its\n",
            "    perihelion is about 1.5 AU-- that's right, a solar-studies spacecraft\n",
            "    that's always further from the Sun than the Earth is!\n",
            "\n",
            "    While in Jupiter's neigborhood, Ulysses studied the magnetic and\n",
            "    radiation environment. For a short summary of these results, see\n",
            "    *Science*, V. 257, p. 1487-1489 (11 September 1992). For gory technical\n",
            "    detail, see the many articles in the same issue.\n",
            "\n",
            "\n",
            "    OTHER SPACE SCIENCE MISSIONS (note: this is based on a posting by Ron\n",
            "    Baalke in 11/89, with ISAS/NASDA information contributed by Yoshiro\n",
            "    Yamada (yamada@yscvax.ysc.go.jp). I'm attempting to track changes based\n",
            "    on updated shuttle manifests; corrections and updates are welcome.\n",
            "\n",
            "    1993 Missions\n",
            "\to ALEXIS [spring, Pegasus]\n",
            "\t    ALEXIS (Array of Low-Energy X-ray Imaging Sensors) is to perform\n",
            "\t    a wide-field sky survey in the \"soft\" (low-energy) X-ray\n",
            "\t    spectrum. It will scan the entire sky every six months to search\n",
            "\t    for variations in soft-X-ray emission from sources such as white\n",
            "\t    dwarfs, cataclysmic variable stars and flare stars. It will also\n",
            "\t    search nearby space for such exotic objects as isolated neutron\n",
            "\t    stars and gamma-ray bursters. ALEXIS is a project of Los Alamos\n",
            "\t    National Laboratory and is primarily a technology development\n",
            "\t    mission that uses astrophysical sources to demonstrate the\n",
            "\t    technology. Contact project investigator Jeffrey J Bloch\n",
            "\t    (jjb@beta.lanl.gov) for more information.\n",
            "\n",
            "\to Wind [Aug, Delta II rocket]\n",
            "\t    Satellite to measure solar wind input to magnetosphere.\n",
            "\n",
            "\to Space Radar Lab [Sep, STS-60 SRL-01]\n",
            "\t    Gather radar images of Earth's surface.\n",
            "\n",
            "\to Total Ozone Mapping Spectrometer [Dec, Pegasus rocket]\n",
            "\t    Study of Stratospheric ozone.\n",
            "\n",
            "\to SFU (Space Flyer Unit) [ISAS]\n",
            "\t    Conducting space experiments and observations and this can be\n",
            "\t    recovered after it conducts the various scientific and\n",
            "\t    engineering experiments. SFU is to be launched by ISAS and\n",
            "\t    retrieved by the U.S. Space Shuttle on STS-68 in 1994.\n",
            "\n",
            "    1994\n",
            "\to Polar Auroral Plasma Physics [May, Delta II rocket]\n",
            "\t    June, measure solar wind and ions and gases surrounding the\n",
            "\t    Earth.\n",
            "\n",
            "\to IML-2 (STS) [NASDA, Jul 1994 IML-02]\n",
            "\t    International Microgravity Laboratory.\n",
            "\n",
            "\to ADEOS [NASDA]\n",
            "\t    Advanced Earth Observing Satellite.\n",
            "\n",
            "\to MUSES-B (Mu Space Engineering Satellite-B) [ISAS]\n",
            "\t    Conducting research on the precise mechanism of space structure\n",
            "\t    and in-space astronomical observations of electromagnetic waves.\n",
            "\n",
            "    1995\n",
            "\tLUNAR-A [ISAS]\n",
            "\t    Elucidating the crust structure and thermal construction of the\n",
            "\t    moon's interior.\n",
            "\n",
            "\n",
            "    Proposed Missions:\n",
            "\to Advanced X-ray Astronomy Facility (AXAF)\n",
            "\t    Possible launch from shuttle in 1995, AXAF is a space\n",
            "\t    observatory with a high resolution telescope. It would orbit for\n",
            "\t    15 years and study the mysteries and fate of the universe.\n",
            "\n",
            "\to Earth Observing System (EOS)\n",
            "\t    Possible launch in 1997, 1 of 6 US orbiting space platforms to\n",
            "\t    provide long-term data (15 years) of Earth systems science\n",
            "\t    including planetary evolution.\n",
            "\n",
            "\to Mercury Observer\n",
            "\t    Possible 1997 launch.\n",
            "\n",
            "\to Lunar Observer\n",
            "\t    Possible 1997 launch, would be sent into a long-term lunar\n",
            "\t    orbit. The Observer, from 60 miles above the moon's poles, would\n",
            "\t    survey characteristics to provide a global context for the\n",
            "\t    results from the Apollo program.\n",
            "\n",
            "\to Space Infrared Telescope Facility\n",
            "\t    Possible launch by shuttle in 1999, this is the 4th element of\n",
            "\t    the Great Observatories program. A free-flying observatory with\n",
            "\t    a lifetime of 5 to 10 years, it would observe new comets and\n",
            "\t    other primitive bodies in the outer solar system, study cosmic\n",
            "\t    birth formation of galaxies, stars and planets and distant\n",
            "\t    infrared-emitting galaxies\n",
            "\n",
            "\to Mars Rover Sample Return (MRSR)\n",
            "\t    Robotics rover would return samples of Mars' atmosphere and\n",
            "\t    surface to Earch for analysis. Possible launch dates: 1996 for\n",
            "\t    imaging orbiter, 2001 for rover.\n",
            "\n",
            "\to Fire and Ice\n",
            "\t    Possible launch in 2001, will use a gravity assist flyby of\n",
            "\t    Earth in 2003, and use a final gravity assist from Jupiter in\n",
            "\t    2005, where the probe will split into its Fire and Ice\n",
            "\t    components: The Fire probe will journey into the Sun, taking\n",
            "\t    measurements of our star's upper atmosphere until it is\n",
            "\t    vaporized by the intense heat. The Ice probe will head out\n",
            "\t    towards Pluto, reaching the tiny world for study by 2016.\n",
            "\n"
          ],
          "name": "stdout"
        }
      ]
    },
    {
      "cell_type": "markdown",
      "metadata": {
        "id": "eCUIW3IcrLA8",
        "colab_type": "text"
      },
      "source": [
        "Repetimos el proceso anterior para la segunda consulta"
      ]
    },
    {
      "cell_type": "code",
      "metadata": {
        "id": "6qvVqQfIE703",
        "colab_type": "code",
        "outputId": "f5086ade-6819-43a7-9dca-49aa2693bed8",
        "colab": {
          "base_uri": "https://localhost:8080/",
          "height": 1000
        }
      },
      "source": [
        "recs = ifs.recupera(cl[1])\n",
        "top = recs.most_common()[0]\n",
        "print(db.data[top[0]])"
      ],
      "execution_count": 15,
      "outputs": [
        {
          "output_type": "stream",
          "text": [
            "This document is in the anonymous ftp directory at NIST.  Looks to me\n",
            "like the other shoe has dropped.\n",
            "\n",
            "\tJim Gillogly\n",
            "\tTrewesday, 25 Astron S.R. 1993, 17:00\n",
            "\n",
            "-------------------\n",
            "\n",
            "Note:  This file will also be available via anonymous file\n",
            "transfer from csrc.ncsl.nist.gov in directory /pub/nistnews and\n",
            "via the NIST Computer Security BBS at 301-948-5717.\n",
            "     ---------------------------------------------------\n",
            "\n",
            "                         THE WHITE HOUSE\n",
            "\n",
            "                  Office of the Press Secretary\n",
            "\n",
            "_________________________________________________________________\n",
            "\n",
            "For Immediate Release                           April 16, 1993\n",
            "\n",
            "\n",
            "                STATEMENT BY THE PRESS SECRETARY\n",
            "\n",
            "\n",
            "The President today announced a new initiative that will bring\n",
            "the Federal Government together with industry in a voluntary\n",
            "program to improve the security and privacy of telephone\n",
            "communications while meeting the legitimate needs of law\n",
            "enforcement.\n",
            "\n",
            "The initiative will involve the creation of new products to\n",
            "accelerate the development and use of advanced and secure\n",
            "telecommunications networks and wireless communications links.\n",
            "\n",
            "For too long there has been little or no dialogue between our\n",
            "private sector and the law enforcement community to resolve the\n",
            "tension between economic vitality and the real challenges of\n",
            "protecting Americans.  Rather than use technology to accommodate\n",
            "the sometimes competing interests of economic growth, privacy and\n",
            "law enforcement, previous policies have pitted government against\n",
            "industry and the rights of privacy against law enforcement.\n",
            "\n",
            "Sophisticated encryption technology has been used for years to\n",
            "protect electronic funds transfer.  It is now being used to\n",
            "protect electronic mail and computer files.  While encryption\n",
            "technology can help Americans protect business secrets and the\n",
            "unauthorized release of personal information, it also can be used\n",
            "by terrorists, drug dealers, and other criminals.\n",
            "\n",
            "A state-of-the-art microcircuit called the \"Clipper Chip\" has\n",
            "been developed by government engineers.  The chip represents a\n",
            "new approach to encryption technology.  It can be used in new,\n",
            "relatively inexpensive encryption devices that can be attached to\n",
            "an ordinary telephone.  It scrambles telephone communications\n",
            "using an encryption algorithm that is more powerful than many in\n",
            "commercial use today.\n",
            "\n",
            "This new technology will help companies protect proprietary\n",
            "information, protect the privacy of personal phone conversations\n",
            "and prevent unauthorized release of data transmitted\n",
            "electronically.  At the same time this technology preserves the\n",
            "ability of federal, state and local law enforcement agencies to\n",
            "intercept lawfully the phone conversations of criminals. \n",
            "\n",
            "A \"key-escrow\" system will be established to ensure that the\n",
            "\"Clipper Chip\" is used to protect the privacy of law-abiding\n",
            "Americans.  Each device containing the chip will have two unique\n",
            "\n",
            "\n",
            "                                2\n",
            "\n",
            "\n",
            "\"keys,\" numbers that will be needed by authorized government\n",
            "agencies to decode messages encoded by the device.  When the\n",
            "device is manufactured, the two keys will be deposited separately\n",
            "in two \"key-escrow\" data bases that will be established by the\n",
            "Attorney General.  Access to these keys will be limited to\n",
            "government officials with legal authorization to conduct a\n",
            "wiretap.\n",
            "\n",
            "The \"Clipper Chip\" technology provides law enforcement with no\n",
            "new authorities to access the content of the private\n",
            "conversations of Americans.\n",
            "\n",
            "To demonstrate the effectiveness of this new technology, the\n",
            "Attorney General will soon purchase several thousand of the new\n",
            "devices.  In addition, respected experts from outside the\n",
            "government will be offered access to the confidential details of\n",
            "the algorithm to assess its capabilities and publicly report\n",
            "their findings.\n",
            "\n",
            "The chip is an important step in addressing the problem of\n",
            "encryption's dual-edge sword:  encryption helps to protect the\n",
            "privacy of individuals and industry, but it also can shield\n",
            "criminals and terrorists.  We need the \"Clipper Chip\" and other\n",
            "approaches that can both provide law-abiding citizens with access\n",
            "to the encryption they need and prevent criminals from using it\n",
            "to hide their illegal activities.  In order to assess technology\n",
            "trends and explore new approaches (like the key-escrow system),\n",
            "the President has directed government agencies to develop a\n",
            "comprehensive policy on encryption that accommodates:\n",
            "\n",
            "     --   the privacy of our citizens, including the need to\n",
            "          employ voice or data encryption for business purposes;\n",
            "\n",
            "     --   the ability of authorized officials to access telephone\n",
            "          calls and data, under proper court or other legal\n",
            "          order, when necessary to protect our citizens;\n",
            "\n",
            "     --   the effective and timely use of the most modern\n",
            "          technology to build the National Information\n",
            "          Infrastructure needed to promote economic growth and\n",
            "          the competitiveness of American industry in the global\n",
            "          marketplace; and \n",
            "\n",
            "     --   the need of U.S. companies to manufacture and export\n",
            "          high technology products.\n",
            "\n",
            "The President has directed early and frequent consultations with\n",
            "affected industries, the Congress and groups that advocate the\n",
            "privacy rights of individuals as policy options are developed.\n",
            "\n",
            "\n",
            "\n",
            "                                3\n",
            "\n",
            "The Administration is committed to working with the private\n",
            "sector to spur the development of a National Information\n",
            "Infrastructure which will use new telecommunications and computer\n",
            "technologies to give Americans unprecedented access to\n",
            "information.  This infrastructure of high-speed networks\n",
            "(\"information superhighways\") will transmit video, images, HDTV\n",
            "programming, and huge data files as easily as today's telephone\n",
            "system transmits voice.\n",
            "\n",
            "Since encryption technology will play an increasingly important\n",
            "role in that infrastructure, the Federal Government must act\n",
            "quickly to develop consistent, comprehensive policies regarding\n",
            "its use.  The Administration is committed to policies that\n",
            "protect all Americans' right to privacy while also protecting\n",
            "them from those who break the law.\n",
            "\n",
            "Further information is provided in an accompanying fact sheet. \n",
            "The provisions of the President's directive to acquire the new\n",
            "encryption technology are also available.  \n",
            "\n",
            "For additional details, call Mat Heyman, National Institute of\n",
            "Standards and Technology, (301) 975-2758.\n",
            "\n",
            "---------------------------------\n",
            "\n",
            "\n",
            "QUESTIONS AND ANSWERS ABOUT THE CLINTON ADMINISTRATION'S\n",
            "TELECOMMUNICATIONS INITIATIVE\n",
            "\n",
            "\n",
            "\n",
            "\n",
            "Q:   Does this approach expand the authority of government\n",
            "     agencies to listen in on phone conversations?\n",
            "\n",
            "A:   No.  \"Clipper Chip\" technology provides law enforcement with\n",
            "     no new authorities to access the content of the private\n",
            "     conversations of Americans.\n",
            "\n",
            "Q:   Suppose a law enforcement agency is conducting a wiretap on\n",
            "     a drug smuggling ring and intercepts a conversation\n",
            "     encrypted using the device.  What would they have to do to\n",
            "     decipher the message?\n",
            "\n",
            "A:   They would have to obtain legal authorization, normally a\n",
            "     court order, to do the wiretap in the first place.  They\n",
            "     would then present documentation of this authorization to\n",
            "     the two entities responsible for safeguarding the keys and\n",
            "     obtain the keys for the device being used by the drug\n",
            "     smugglers.  The key is split into two parts, which are\n",
            "     stored separately in order to ensure the security of the key\n",
            "     escrow system.\n",
            "\n",
            "Q:   Who will run the key-escrow data banks?\n",
            "\n",
            "A:   The two key-escrow data banks will be run by two independent\n",
            "     entities.  At this point, the Department of Justice and the\n",
            "     Administration have yet to determine which agencies will\n",
            "     oversee the key-escrow data banks.\n",
            "\n",
            "Q:   How strong is the security in the device?  How can I be sure\n",
            "     how strong the security is?  \n",
            "\n",
            "A:   This system is more secure than many other voice encryption\n",
            "     systems readily available today.  While the algorithm will\n",
            "     remain classified to protect the security of the key escrow\n",
            "     system, we are willing to invite an independent panel of\n",
            "     cryptography experts to evaluate the algorithm to assure all\n",
            "     potential users that there are no unrecognized\n",
            "     vulnerabilities.\n",
            "\n",
            "Q:   Whose decision was it to propose this product?\n",
            "\n",
            "A:   The National Security Council, the Justice Department, the\n",
            "     Commerce Department, and other key agencies were involved in\n",
            "     this decision.  This approach has been endorsed by the\n",
            "     President, the Vice President, and appropriate Cabinet\n",
            "     officials.\n",
            "\n",
            "Q:   Who was consulted?  The Congress?  Industry?\n",
            "\n",
            "A:   We have on-going discussions with Congress and industry on\n",
            "     encryption issues, and expect those discussions to intensify\n",
            "     as we carry out our review of encryption policy.  We have\n",
            "     briefed members of Congress and industry leaders on the\n",
            "     decisions related to this initiative.\n",
            "\n",
            "Q:   Will the government provide the hardware to manufacturers?\n",
            "\n",
            "A:   The government designed and developed the key access\n",
            "     encryption microcircuits, but it is not providing the\n",
            "     microcircuits to product manufacturers.  Product\n",
            "     manufacturers can acquire the microcircuits from the chip\n",
            "     manufacturer that produces them.\n",
            "\n",
            "Q:   Who provides the \"Clipper Chip\"?\n",
            "\n",
            "A:   Mykotronx programs it at their facility in Torrance,\n",
            "     California, and will sell the chip to encryption device\n",
            "     manufacturers.  The programming function could be licensed\n",
            "     to other vendors in the future.\n",
            "\n",
            "Q:   How do I buy one of these encryption devices? \n",
            "\n",
            "A:   We expect several manufacturers to consider incorporating\n",
            "     the \"Clipper Chip\" into their devices.\n",
            "     \n",
            "Q:   If the Administration were unable to find a technological\n",
            "     solution like the one proposed, would the Administration be\n",
            "     willing to use legal remedies to restrict access to more\n",
            "     powerful encryption devices?\n",
            "\n",
            "A:   This is a fundamental policy question which will be\n",
            "     considered during the broad policy review.  The key escrow\n",
            "     mechanism will provide Americans with an encryption product\n",
            "     that is more secure, more convenient, and less expensive\n",
            "     than others readily available today, but it is just one\n",
            "     piece of what must be the comprehensive approach to\n",
            "     encryption technology, which the Administration is\n",
            "     developing.\n",
            "\n",
            "     The Administration is not saying, \"since encryption\n",
            "     threatens the public safety and effective law enforcement,\n",
            "     we will prohibit it outright\" (as some countries have\n",
            "     effectively done); nor is the U.S. saying that \"every\n",
            "     American, as a matter of right, is entitled to an\n",
            "     unbreakable commercial encryption product.\"  There is a\n",
            "     false \"tension\" created in the assessment that this issue is\n",
            "     an \"either-or\" proposition.  Rather, both concerns can be,\n",
            "     and in fact are, harmoniously balanced through a reasoned,\n",
            "     balanced approach such as is proposed with the \"Clipper\n",
            "     Chip\" and similar encryption techniques.\n",
            "\n",
            "Q:   What does this decision indicate about how the Clinton\n",
            "     Administration's policy toward encryption will differ from\n",
            "     that of the Bush Administration?  \n",
            "\n",
            "A:   It indicates that we understand the importance of encryption\n",
            "     technology in telecommunications and computing and are\n",
            "     committed to working with industry and public-interest\n",
            "     groups to find innovative ways to protect Americans'\n",
            "     privacy, help businesses to compete, and ensure that law\n",
            "     enforcement agencies have the tools they need to fight crime\n",
            "     and terrorism.\n",
            "\n",
            "Q:   Will the devices be exportable?  Will other devices that use\n",
            "     the government hardware?\n",
            "\n",
            "A:   Voice encryption devices are subject to export control\n",
            "     requirements.  Case-by-case review for each export is\n",
            "     required to ensure appropriate use of these devices.  The\n",
            "     same is true for other encryption devices.  One of the\n",
            "     attractions of this technology is the protection it can give\n",
            "     to U.S. companies operating at home and abroad.  With this\n",
            "     in mind, we expect export licenses will be granted on a\n",
            "     case-by-case basis for U.S. companies seeking to use these\n",
            "     devices to secure their own communications abroad.  We plan\n",
            "     to review the possibility of permitting wider exportability\n",
            "     of these products.\n",
            "\n",
            " \n",
            "     \n"
          ],
          "name": "stdout"
        }
      ]
    },
    {
      "cell_type": "markdown",
      "metadata": {
        "id": "0gD8mubwrRNF",
        "colab_type": "text"
      },
      "source": [
        "## Búsqueda de documentos similares\n",
        "Ahora vamos a realizar búsquedas de documentos similares a un documento de consulta.\n",
        "\n",
        "Primero tomamos 1 documento que sirva de consulta y lo visualizamos"
      ]
    },
    {
      "cell_type": "code",
      "metadata": {
        "id": "JCbO6_NxslI7",
        "colab_type": "code",
        "colab": {
          "base_uri": "https://localhost:8080/",
          "height": 139
        },
        "outputId": "be1f0811-a868-4e54-a9f3-92735f80fc7d"
      },
      "source": [
        "dc = db.data[0]\n",
        "print(dc)"
      ],
      "execution_count": 16,
      "outputs": [
        {
          "output_type": "stream",
          "text": [
            "I was wondering if anyone out there could enlighten me on this car I saw\n",
            "the other day. It was a 2-door sports car, looked to be from the late 60s/\n",
            "early 70s. It was called a Bricklin. The doors were really small. In addition,\n",
            "the front bumper was separate from the rest of the body. This is \n",
            "all I know. If anyone can tellme a model name, engine specs, years\n",
            "of production, where this car is made, history, or whatever info you\n",
            "have on this funky looking car, please e-mail.\n"
          ],
          "name": "stdout"
        }
      ]
    },
    {
      "cell_type": "markdown",
      "metadata": {
        "id": "WwIt1s8SweAJ",
        "colab_type": "text"
      },
      "source": [
        "Obtenemos su bolsa"
      ]
    },
    {
      "cell_type": "code",
      "metadata": {
        "id": "AiAYiRzPwgbT",
        "colab_type": "code",
        "colab": {}
      },
      "source": [
        "tokens = doc_a_tokens(dc)\n",
        "bolsa_dc = v.transform([' '.join(tokens)])"
      ],
      "execution_count": 0,
      "outputs": []
    },
    {
      "cell_type": "markdown",
      "metadata": {
        "id": "60H2jZqIs3Oz",
        "colab_type": "text"
      },
      "source": [
        "Definimos una función para hacer búsqueda por fuerza bruta dada una función de distancia o similitud"
      ]
    },
    {
      "cell_type": "code",
      "metadata": {
        "id": "iZhx1Tx9tDO6",
        "colab_type": "code",
        "colab": {}
      },
      "source": [
        "def fuerza_bruta(base, consulta, fd):\n",
        "  medidas = np.zeros(base.shape[0])\n",
        "  for i,x in enumerate(base):\n",
        "    medidas[i] = fd(consulta, x)\n",
        "\n",
        "  return medidas"
      ],
      "execution_count": 0,
      "outputs": []
    },
    {
      "cell_type": "markdown",
      "metadata": {
        "id": "O7GS1KAptrWQ",
        "colab_type": "text"
      },
      "source": [
        "Definimos la función para la similitud coseno"
      ]
    },
    {
      "cell_type": "code",
      "metadata": {
        "id": "_IcUX9WDtp5L",
        "colab_type": "code",
        "colab": {}
      },
      "source": [
        "def similitud_coseno(x, y):\n",
        "  x = x.toarray()[0]\n",
        "  y = y.toarray()[0]\n",
        "  return (x @ y) / (np.sqrt(x @ x) * np.sqrt(y @ y))"
      ],
      "execution_count": 0,
      "outputs": []
    },
    {
      "cell_type": "code",
      "metadata": {
        "id": "aV02dK_jvagm",
        "colab_type": "code",
        "colab": {
          "base_uri": "https://localhost:8080/",
          "height": 52
        },
        "outputId": "2409f7be-85ba-43ae-ba18-aafc7bbc0cd5"
      },
      "source": [
        "sims = fuerza_bruta(bolsas[1:], bolsa_dc, similitud_coseno)"
      ],
      "execution_count": 20,
      "outputs": [
        {
          "output_type": "stream",
          "text": [
            "/usr/local/lib/python3.6/dist-packages/ipykernel_launcher.py:4: RuntimeWarning: invalid value encountered in true_divide\n",
            "  after removing the cwd from sys.path.\n"
          ],
          "name": "stderr"
        }
      ]
    },
    {
      "cell_type": "code",
      "metadata": {
        "id": "IVE0pZ1CyoSs",
        "colab_type": "code",
        "colab": {
          "base_uri": "https://localhost:8080/",
          "height": 35
        },
        "outputId": "84d00abd-079a-4059-8bad-479d16634da2"
      },
      "source": [
        "print('Similitud máxima es {0} de documento {1}'.format(np.nanmax(sims), np.nanargmax(sims)+ 1))"
      ],
      "execution_count": 21,
      "outputs": [
        {
          "output_type": "stream",
          "text": [
            "Similitud máxima es 0.43759497449368373 de documento 8266\n"
          ],
          "name": "stdout"
        }
      ]
    },
    {
      "cell_type": "markdown",
      "metadata": {
        "id": "XdGF2CIFzVt9",
        "colab_type": "text"
      },
      "source": [
        "Revisamos documento más similar"
      ]
    },
    {
      "cell_type": "code",
      "metadata": {
        "id": "movTAxK5zYLd",
        "colab_type": "code",
        "colab": {
          "base_uri": "https://localhost:8080/",
          "height": 191
        },
        "outputId": "15625b54-6af1-4a4d-a115-72272d5aa00b"
      },
      "source": [
        "print(db.data[np.nanargmax(sims) + 1])"
      ],
      "execution_count": 22,
      "outputs": [
        {
          "output_type": "stream",
          "text": [
            "\n",
            "Definitely!\n",
            "\n",
            "Safety is an important criterium for me when buying a car. I won't buy a \n",
            "small car like a Civic or whatever.\n",
            "\n",
            "Great = Safety + Handling + Speed  -  for me\n",
            "\n",
            "Seems to me that you would be more \"dead\" in a small car than a large car \n",
            "after an accident.\n"
          ],
          "name": "stdout"
        }
      ]
    },
    {
      "cell_type": "markdown",
      "metadata": {
        "id": "Li88tFIR0_dI",
        "colab_type": "text"
      },
      "source": [
        "Definimos la distancia euclidiana"
      ]
    },
    {
      "cell_type": "code",
      "metadata": {
        "id": "BnBz1iij1B92",
        "colab_type": "code",
        "colab": {}
      },
      "source": [
        "def distancia_euclidiana(x, y):   \n",
        "  x = x.toarray()[0]\n",
        "  y = y.toarray()[0]\n",
        "  return np.sqrt(np.sum((x - y)**2))"
      ],
      "execution_count": 0,
      "outputs": []
    },
    {
      "cell_type": "markdown",
      "metadata": {
        "id": "YbS7LzlK03Wq",
        "colab_type": "text"
      },
      "source": [
        "Repetimos el proceso anterior con la distancia euclidiana"
      ]
    },
    {
      "cell_type": "code",
      "metadata": {
        "id": "1XP3szhh01mr",
        "colab_type": "code",
        "colab": {
          "base_uri": "https://localhost:8080/",
          "height": 35
        },
        "outputId": "fbed526c-15de-41b4-c9d3-7c770c860b34"
      },
      "source": [
        "euclids = fuerza_bruta(bolsas[1:], bolsa_dc, distancia_euclidiana)\n",
        "print('Distancia mínima es {0} de documento {1}'.format(np.nanmin(euclids), np.nanargmin(euclids) + 1))"
      ],
      "execution_count": 24,
      "outputs": [
        {
          "output_type": "stream",
          "text": [
            "Distancia mínima es 6.4031242374328485 de documento 6581\n"
          ],
          "name": "stdout"
        }
      ]
    },
    {
      "cell_type": "markdown",
      "metadata": {
        "id": "P1co0U2r1ks6",
        "colab_type": "text"
      },
      "source": [
        "Visualizamos el documento"
      ]
    },
    {
      "cell_type": "code",
      "metadata": {
        "id": "p6YQgam81r8y",
        "colab_type": "code",
        "colab": {
          "base_uri": "https://localhost:8080/",
          "height": 52
        },
        "outputId": "8db849ef-958e-4eb0-bbd9-21ae54fc2fc8"
      },
      "source": [
        "print(db.data[np.nanargmin(euclids) + 1])"
      ],
      "execution_count": 25,
      "outputs": [
        {
          "output_type": "stream",
          "text": [
            "\n",
            "     There's only one car that really fits your needs. It's spelled:\n"
          ],
          "name": "stdout"
        }
      ]
    },
    {
      "cell_type": "markdown",
      "metadata": {
        "id": "A94B5RHQ2l5L",
        "colab_type": "text"
      },
      "source": [
        "Hacemos lo mismo para la similitud de Jaccard y MinMax"
      ]
    },
    {
      "cell_type": "code",
      "metadata": {
        "id": "Is4333lULDyy",
        "colab_type": "code",
        "colab": {}
      },
      "source": [
        "def similitud_jaccard(x, y):\n",
        "  x = x.toarray()[0]\n",
        "  y = y.toarray()[0]\n",
        "  inter = np.count_nonzero(x * y)\n",
        "  return inter / (np.count_nonzero(x) + np.count_nonzero(y) - inter)\n",
        "\n",
        "def similitud_minmax(x, y):\n",
        "  x = x.toarray()[0]\n",
        "  y = y.toarray()[0]\n",
        "  c = np.vstack((x,y))\n",
        "  mn = np.sum(np.min(c, axis=0))\n",
        "  mx = np.sum(np.max(c, axis=0))\n",
        "  return mn / mx"
      ],
      "execution_count": 0,
      "outputs": []
    },
    {
      "cell_type": "markdown",
      "metadata": {
        "id": "lRZaOBjO9Ov8",
        "colab_type": "text"
      },
      "source": [
        "Calculamos las similitudes con todos los documentos"
      ]
    },
    {
      "cell_type": "code",
      "metadata": {
        "id": "1r4txIuz3ESg",
        "colab_type": "code",
        "colab": {
          "base_uri": "https://localhost:8080/",
          "height": 52
        },
        "outputId": "91e03700-4f68-41f5-da91-895504e25319"
      },
      "source": [
        "js = fuerza_bruta(bolsas[1:], bolsa_dc, similitud_jaccard)\n",
        "mms = fuerza_bruta(bolsas[1:], bolsa_dc, similitud_minmax)\n",
        "print('Similitud de Jaccard máxima es {0} de documento {1}'.format(np.nanmax(js), np.nanargmax(js) + 1))\n",
        "print('Similitud de MinMax máxima es {0} de documento {1}'.format(np.nanmax(mms), np.nanargmax(mms) + 1))"
      ],
      "execution_count": 27,
      "outputs": [
        {
          "output_type": "stream",
          "text": [
            "Similitud de Jaccard máxima es 0.125 de documento 8924\n",
            "Similitud de MinMax máxima es 0.11267605633802817 de documento 6997\n"
          ],
          "name": "stdout"
        }
      ]
    },
    {
      "cell_type": "markdown",
      "metadata": {
        "id": "5kRmWV1G4xD2",
        "colab_type": "text"
      },
      "source": [
        "Visualizamos documento con mayor similitud de Jaccard"
      ]
    },
    {
      "cell_type": "code",
      "metadata": {
        "id": "rKyhHcVt414D",
        "colab_type": "code",
        "colab": {
          "base_uri": "https://localhost:8080/",
          "height": 69
        },
        "outputId": "f93032b6-9d31-46ed-8cbd-9c9f9dd0e0f1"
      },
      "source": [
        "print(db.data[np.nanargmax(js) + 1])"
      ],
      "execution_count": 28,
      "outputs": [
        {
          "output_type": "stream",
          "text": [
            "I am interested to know if there is any Pontiac e-mail car clubs out\n",
            "there?  Has anyone started one, or is anybody thinking about starting one.\n",
            "Thanks for any info you can give me\n"
          ],
          "name": "stdout"
        }
      ]
    },
    {
      "cell_type": "markdown",
      "metadata": {
        "id": "RRUtd-tg46YL",
        "colab_type": "text"
      },
      "source": [
        "Lo mismo para la similitud MinMax"
      ]
    },
    {
      "cell_type": "code",
      "metadata": {
        "id": "w4qRNxo_46ND",
        "colab_type": "code",
        "colab": {
          "base_uri": "https://localhost:8080/",
          "height": 295
        },
        "outputId": "33432983-e2c9-4384-ab59-d4eb38afe32a"
      },
      "source": [
        "print(db.data[np.nanargmax(mms) + 1])"
      ],
      "execution_count": 29,
      "outputs": [
        {
          "output_type": "stream",
          "text": [
            "\n",
            "Perhaps instead of this silly argument about what backup lights\n",
            "are for, couldn't we agree that they serve the dual purpose of\n",
            "letting people behind your car know that you have it in reverse\n",
            "and that they can also light up the area behind your car while\n",
            "you're backing up so you can see?\n",
            "\n",
            "Backup lamps on current models are much brighter than they used\n",
            "to be on older cars. Those on my Taurus Wagon are quite bright\n",
            "enough to illuminate a good area behind the car, and they're \n",
            "MUCH brighter than those on my earlier cars from the 60s and 70s. \n",
            "\n",
            "Insofar as Vettes having side backup lights, look at a '92 or '93\n",
            "model (or perhaps a year or two earlier too) and you'll see\n",
            "red side marker lamps and white side marker lamps both near the\n",
            "car's hindquarters.  Those aren't just white reflectors. \n"
          ],
          "name": "stdout"
        }
      ]
    },
    {
      "cell_type": "markdown",
      "metadata": {
        "id": "5WkEdm4r5DiS",
        "colab_type": "text"
      },
      "source": [
        "## Ejercicio\n",
        "+ Usa el índice inverso para acelerar el proceso de búsqueda para la similitud de Jaccard, MinMax y Coseno"
      ]
    }
  ]
}